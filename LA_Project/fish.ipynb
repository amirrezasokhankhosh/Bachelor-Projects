{
 "cells": [
  {
   "cell_type": "code",
   "execution_count": 265,
   "metadata": {},
   "outputs": [],
   "source": [
    "import tensorflow as tf\n",
    "import numpy as np\n",
    "import pandas as pd\n",
    "from tqdm import tqdm\n",
    "import matplotlib.pyplot as plt\n",
    "import random"
   ]
  },
  {
   "cell_type": "code",
   "execution_count": 266,
   "metadata": {},
   "outputs": [
    {
     "data": {
      "text/html": [
       "<div>\n",
       "<style scoped>\n",
       "    .dataframe tbody tr th:only-of-type {\n",
       "        vertical-align: middle;\n",
       "    }\n",
       "\n",
       "    .dataframe tbody tr th {\n",
       "        vertical-align: top;\n",
       "    }\n",
       "\n",
       "    .dataframe thead th {\n",
       "        text-align: right;\n",
       "    }\n",
       "</style>\n",
       "<table border=\"1\" class=\"dataframe\">\n",
       "  <thead>\n",
       "    <tr style=\"text-align: right;\">\n",
       "      <th></th>\n",
       "      <th>Species</th>\n",
       "      <th>Weight</th>\n",
       "      <th>Length1</th>\n",
       "      <th>Length2</th>\n",
       "      <th>Length3</th>\n",
       "      <th>Height</th>\n",
       "      <th>Width</th>\n",
       "    </tr>\n",
       "  </thead>\n",
       "  <tbody>\n",
       "    <tr>\n",
       "      <th>0</th>\n",
       "      <td>Bream</td>\n",
       "      <td>1000.0</td>\n",
       "      <td>33.5</td>\n",
       "      <td>37.0</td>\n",
       "      <td>42.6</td>\n",
       "      <td>18.9570</td>\n",
       "      <td>6.6030</td>\n",
       "    </tr>\n",
       "    <tr>\n",
       "      <th>1</th>\n",
       "      <td>Roach</td>\n",
       "      <td>120.0</td>\n",
       "      <td>19.4</td>\n",
       "      <td>21.0</td>\n",
       "      <td>23.7</td>\n",
       "      <td>6.1146</td>\n",
       "      <td>3.2943</td>\n",
       "    </tr>\n",
       "    <tr>\n",
       "      <th>2</th>\n",
       "      <td>Bream</td>\n",
       "      <td>600.0</td>\n",
       "      <td>29.4</td>\n",
       "      <td>32.0</td>\n",
       "      <td>37.2</td>\n",
       "      <td>14.9544</td>\n",
       "      <td>5.1708</td>\n",
       "    </tr>\n",
       "    <tr>\n",
       "      <th>3</th>\n",
       "      <td>Perch</td>\n",
       "      <td>130.0</td>\n",
       "      <td>20.5</td>\n",
       "      <td>22.5</td>\n",
       "      <td>24.0</td>\n",
       "      <td>5.8560</td>\n",
       "      <td>3.6240</td>\n",
       "    </tr>\n",
       "    <tr>\n",
       "      <th>4</th>\n",
       "      <td>Perch</td>\n",
       "      <td>85.0</td>\n",
       "      <td>18.2</td>\n",
       "      <td>20.0</td>\n",
       "      <td>21.0</td>\n",
       "      <td>5.0820</td>\n",
       "      <td>2.7720</td>\n",
       "    </tr>\n",
       "  </tbody>\n",
       "</table>\n",
       "</div>"
      ],
      "text/plain": [
       "  Species  Weight  Length1  Length2  Length3   Height   Width\n",
       "0   Bream  1000.0     33.5     37.0     42.6  18.9570  6.6030\n",
       "1   Roach   120.0     19.4     21.0     23.7   6.1146  3.2943\n",
       "2   Bream   600.0     29.4     32.0     37.2  14.9544  5.1708\n",
       "3   Perch   130.0     20.5     22.5     24.0   5.8560  3.6240\n",
       "4   Perch    85.0     18.2     20.0     21.0   5.0820  2.7720"
      ]
     },
     "execution_count": 266,
     "metadata": {},
     "output_type": "execute_result"
    }
   ],
   "source": [
    "df = pd.read_csv('./Fish.csv')\n",
    "df = df.sample(frac=1, random_state=1).reset_index(drop=True)\n",
    "df.head()"
   ]
  },
  {
   "cell_type": "code",
   "execution_count": 267,
   "metadata": {},
   "outputs": [
    {
     "name": "stdout",
     "output_type": "stream",
     "text": [
      "<class 'pandas.core.frame.DataFrame'>\n",
      "RangeIndex: 159 entries, 0 to 158\n",
      "Data columns (total 7 columns):\n",
      " #   Column   Non-Null Count  Dtype  \n",
      "---  ------   --------------  -----  \n",
      " 0   Species  159 non-null    object \n",
      " 1   Weight   159 non-null    float64\n",
      " 2   Length1  159 non-null    float64\n",
      " 3   Length2  159 non-null    float64\n",
      " 4   Length3  159 non-null    float64\n",
      " 5   Height   159 non-null    float64\n",
      " 6   Width    159 non-null    float64\n",
      "dtypes: float64(6), object(1)\n",
      "memory usage: 8.8+ KB\n"
     ]
    }
   ],
   "source": [
    "df.info()"
   ]
  },
  {
   "cell_type": "code",
   "execution_count": 268,
   "metadata": {},
   "outputs": [],
   "source": [
    "from sklearn.preprocessing import StandardScaler, OneHotEncoder\n",
    "\n",
    "class Preprocess:\n",
    "    def __init__(self, train, test):\n",
    "        self.train = train\n",
    "        self.test = test\n",
    "        self.encoder = OneHotEncoder()\n",
    "        self.scalar = StandardScaler()\n",
    "    \n",
    "    def preprocess_train(self):\n",
    "        train_cat = self.train.select_dtypes(include='object')\n",
    "        train_num = self.train.select_dtypes(exclude='object')\n",
    "\n",
    "        train_cat = self.encoder.fit_transform(train_cat).toarray()\n",
    "        train_num = self.scalar.fit_transform(train_num)\n",
    "\n",
    "        train_processed = np.concatenate([train_num, train_cat], axis=1)\n",
    "\n",
    "        y_train = train_processed[:, 1].copy()\n",
    "        y_train = y_train.reshape((y_train.shape[0], 1))\n",
    "        X_train = np.delete(train_processed, obj=1, axis=1)\n",
    "\n",
    "        return X_train, y_train\n",
    "    \n",
    "    def preprocess_test(self):\n",
    "        test_cat = self.test.select_dtypes(include='object')\n",
    "        test_num = self.test.select_dtypes(exclude='object')\n",
    "\n",
    "        test_cat = self.encoder.transform(test_cat).toarray()\n",
    "        test_num = self.scalar.transform(test_num)\n",
    "\n",
    "        test_processed = np.concatenate([test_num, test_cat], axis=1)\n",
    "\n",
    "        y_test = test_processed[:, 1].copy()\n",
    "        y_test = y_test.reshape((y_test.shape[0], 1))\n",
    "        X_test = np.delete(test_processed, obj=1, axis=1)\n",
    "\n",
    "        return X_test, y_test"
   ]
  },
  {
   "cell_type": "code",
   "execution_count": 269,
   "metadata": {},
   "outputs": [],
   "source": [
    "def relu(z):\n",
    "    return tf.math.maximum(0, z)"
   ]
  },
  {
   "cell_type": "code",
   "execution_count": 270,
   "metadata": {},
   "outputs": [],
   "source": [
    "def linear(X, W, b):\n",
    "    return (X @ W) + b"
   ]
  },
  {
   "cell_type": "code",
   "execution_count": 271,
   "metadata": {},
   "outputs": [],
   "source": [
    "def compute_loss(y_hat, y):\n",
    "    return tf.reduce_mean((y_hat - y) ** 2, axis=0)"
   ]
  },
  {
   "cell_type": "code",
   "execution_count": 272,
   "metadata": {},
   "outputs": [],
   "source": [
    "train, test = df.iloc[:-30], df.iloc[-30:]"
   ]
  },
  {
   "cell_type": "code",
   "execution_count": 273,
   "metadata": {},
   "outputs": [],
   "source": [
    "preprocess = Preprocess(train, test)\n",
    "X_train, y_train = preprocess.preprocess_train()"
   ]
  },
  {
   "cell_type": "code",
   "execution_count": 274,
   "metadata": {},
   "outputs": [],
   "source": [
    "input_size = X_train.shape[1]\n",
    "output_size = 1"
   ]
  },
  {
   "cell_type": "code",
   "execution_count": 275,
   "metadata": {},
   "outputs": [],
   "source": [
    "layer0, layer1 = 50, 100"
   ]
  },
  {
   "cell_type": "code",
   "execution_count": 276,
   "metadata": {},
   "outputs": [],
   "source": [
    "factor = 0.01"
   ]
  },
  {
   "cell_type": "code",
   "execution_count": 277,
   "metadata": {},
   "outputs": [],
   "source": [
    "W0 = tf.Variable(np.random.rand(input_size, layer0) * factor)\n",
    "W1 = tf.Variable(np.random.rand(layer0, layer1) * factor)\n",
    "W2 = tf.Variable(np.random.rand(layer1, output_size) * factor)\n",
    "b0 = tf.Variable(np.zeros(layer0))\n",
    "b1 = tf.Variable(np.zeros(layer1))\n",
    "b2 = tf.Variable(np.zeros(output_size))"
   ]
  },
  {
   "cell_type": "code",
   "execution_count": 278,
   "metadata": {},
   "outputs": [],
   "source": [
    "learning_rate = 1e-2\n",
    "epochs = 1000\n",
    "batch_size = X_train.shape[0]"
   ]
  },
  {
   "cell_type": "code",
   "execution_count": 279,
   "metadata": {},
   "outputs": [],
   "source": [
    "class Model:\n",
    "    def __init__(self):\n",
    "        pass\n",
    "    \n",
    "    def initialization(self, factor):\n",
    "        self.W0 = tf.Variable(np.random.rand(input_size, layer0) * factor)\n",
    "        self.W1 = tf.Variable(np.random.rand(layer0, layer1) * factor)\n",
    "        self.W2 = tf.Variable(np.random.rand(layer1, output_size) * factor)\n",
    "        self.b0 = tf.Variable(np.zeros(layer0))\n",
    "        self.b1 = tf.Variable(np.zeros(layer1))\n",
    "        self.b2 = tf.Variable(np.zeros(output_size))\n",
    "    \n",
    "    def train(self):\n",
    "        losses = []\n",
    "        for _ in tqdm(range(epochs)):\n",
    "            with tf.GradientTape() as tape:\n",
    "                tape.watch([self.W0, self.W1, self.W2, self.b0, self.b1, self.b2])\n",
    "                \n",
    "                indexes = random.sample(range(len(X_train)), batch_size)\n",
    "                X_batch = X_train[indexes]\n",
    "                y_batch = y_train[indexes]\n",
    "\n",
    "                h0 = relu(linear(X_batch, self.W0, self.b0))\n",
    "                h1 = relu(linear(h0, self.W1, self.b1))\n",
    "                y_hat = linear(h1, self.W2, self.b2)\n",
    "\n",
    "                loss = compute_loss(y_hat, y_batch)\n",
    "            \n",
    "            grad = tape.gradient(loss, {\n",
    "                'W0' : self.W0,\n",
    "                'W1' : self.W1,\n",
    "                'W2' : self.W2,\n",
    "                'b0' : self.b0,\n",
    "                'b1' : self.b1,\n",
    "                'b2' : self.b2\n",
    "            })\n",
    "\n",
    "            self.W0 = self.W0 - learning_rate * grad['W0']\n",
    "            self.W1 = self.W1 - learning_rate * grad['W1']\n",
    "            self.W2 = self.W2 - learning_rate * grad['W2']\n",
    "            self.b0 = self.b0 - learning_rate * grad['b0']\n",
    "            self.b1 = self.b1 - learning_rate * grad['b1']\n",
    "            self.b2 = self.b2 - learning_rate * grad['b2']\n",
    "            losses.append(loss)\n",
    "        return losses"
   ]
  },
  {
   "cell_type": "code",
   "execution_count": 280,
   "metadata": {},
   "outputs": [
    {
     "name": "stderr",
     "output_type": "stream",
     "text": [
      "100%|██████████| 1000/1000 [00:11<00:00, 87.08it/s]\n",
      "100%|██████████| 1000/1000 [00:10<00:00, 92.93it/s]\n",
      "100%|██████████| 1000/1000 [00:10<00:00, 92.84it/s]\n",
      "100%|██████████| 1000/1000 [00:10<00:00, 93.17it/s]\n",
      "100%|██████████| 1000/1000 [00:10<00:00, 93.00it/s]\n",
      "100%|██████████| 1000/1000 [00:10<00:00, 92.90it/s]\n"
     ]
    },
    {
     "data": {
      "image/png": "[encoded data removed]",
      "text/plain": [
       "<Figure size 640x480 with 1 Axes>"
      ]
     },
     "metadata": {},
     "output_type": "display_data"
    }
   ],
   "source": [
    "model = Model()\n",
    "factors = [0.1, 0.05, 0.01, 0.005, 0.0]\n",
    "for factor in factors:\n",
    "    model.initialization(factor)\n",
    "    losses = model.train()\n",
    "    plt.plot(losses)\n",
    "plt.legend([str(factor) for factor in factors])\n",
    "plt.show()"
   ]
  }
 ],
 "metadata": {
  "kernelspec": {
   "display_name": "data-science",
   "language": "python",
   "name": "python3"
  },
  "language_info": {
   "codemirror_mode": {
    "name": "ipython",
    "version": 3
   },
   "file_extension": ".py",
   "mimetype": "text/x-python",
   "name": "python",
   "nbconvert_exporter": "python",
   "pygments_lexer": "ipython3",
   "version": "3.10.6"
  },
  "orig_nbformat": 4
 },
 "nbformat": 4,
 "nbformat_minor": 2
}
